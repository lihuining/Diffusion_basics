{
 "cells": [
  {
   "cell_type": "code",
   "execution_count": null,
   "id": "69ddc4fe-dbd8-401b-8e8a-058b79cf94b1",
   "metadata": {},
   "outputs": [],
   "source": [
    "from models import ControlLoRA, ControlLoRACrossAttnProcessor\n",
    "control_lora = ControlLoRA.from_pretrained('HighCWu/ControlLoRA', subfolder=\"sd-diffusiondb-canny-model-control-lora\")\n",
    "control_lora = control_lora.to(device)"
   ]
  }
 ],
 "metadata": {
  "kernelspec": {
   "display_name": "Python 3 (ipykernel)",
   "language": "python",
   "name": "python3"
  },
  "language_info": {
   "codemirror_mode": {
    "name": "ipython",
    "version": 3
   },
   "file_extension": ".py",
   "mimetype": "text/x-python",
   "name": "python",
   "nbconvert_exporter": "python",
   "pygments_lexer": "ipython3",
   "version": "3.9.15"
  }
 },
 "nbformat": 4,
 "nbformat_minor": 5
}
